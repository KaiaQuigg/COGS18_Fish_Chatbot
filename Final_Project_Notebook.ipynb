{
 "cells": [
  {
   "cell_type": "markdown",
   "metadata": {},
   "source": [
    "# Final Project  \n",
    "#                                         Let's chat about the ocean!\n",
    "# Kaia Quigg"
   ]
  },
  {
   "cell_type": "markdown",
   "metadata": {},
   "source": [
    "This chatbot was designed to provide interesting facts about the  oceans and the things that live there! The facts span a wide range of topics, and are somewhat obscure. This was done with the goal of hopefully teaching the 'chatter' something they did not know before!"
   ]
  },
  {
   "cell_type": "markdown",
   "metadata": {},
   "source": [
    "The following cells set up the functions needed for preparing and analyzing text for the chatbot\n",
    "- These functions were previously coded by me in Assignment 3"
   ]
  },
  {
   "cell_type": "code",
   "execution_count": 1,
   "metadata": {},
   "outputs": [],
   "source": [
    "#Question Function\n",
    "def is_question(input_string):\n",
    "    if '?' in input_string:\n",
    "        output=True\n",
    "    else:\n",
    "        output=False\n",
    "    return output"
   ]
  },
  {
   "cell_type": "code",
   "execution_count": 2,
   "metadata": {},
   "outputs": [],
   "source": [
    "#Func to remove punctuation\n",
    "def remove_punctuation(input_string):\n",
    "    out_string=''\n",
    "    for item in input_string:\n",
    "        if item in (string.punctuation):\n",
    "            continue\n",
    "        else:\n",
    "            out_string=out_string+item\n",
    "    return out_string"
   ]
  },
  {
   "cell_type": "code",
   "execution_count": 3,
   "metadata": {},
   "outputs": [],
   "source": [
    "#Prepare text for input\n",
    "def prepare_text(input_string):\n",
    "    temp_string=input_string.lower()\n",
    "    temp_string=remove_punctuation(temp_string)\n",
    "    out_list=temp_string.split()\n",
    "    return out_list"
   ]
  },
  {
   "cell_type": "code",
   "execution_count": 4,
   "metadata": {},
   "outputs": [],
   "source": [
    "#Selector function\n",
    "def selector(input_list,check_list,return_list):\n",
    "    output=None\n",
    "    for item in input_list:\n",
    "        if item in check_list:\n",
    "            output=random.choice(return_list)\n",
    "            break\n",
    "    return output"
   ]
  },
  {
   "cell_type": "code",
   "execution_count": 5,
   "metadata": {},
   "outputs": [],
   "source": [
    "#String concatenator\n",
    "def string_concatenator(string1,string2,separator):\n",
    "    result=string1+separator+string2\n",
    "    return result"
   ]
  },
  {
   "cell_type": "code",
   "execution_count": 6,
   "metadata": {},
   "outputs": [],
   "source": [
    "# List to string function\n",
    "def list_to_string(input_list,separator):\n",
    "    output=input_list[0]\n",
    "    for item in range(1,(len(input_list))):\n",
    "            output=string_concatenator(output,input_list[item],separator)\n",
    "    return output"
   ]
  },
  {
   "cell_type": "markdown",
   "metadata": {},
   "source": [
    "The following cell gives the function to end the chat"
   ]
  },
  {
   "cell_type": "code",
   "execution_count": 7,
   "metadata": {},
   "outputs": [],
   "source": [
    "#End chat\n",
    "def end_chat(input_list):\n",
    "    if 'quit' in input_list:\n",
    "        return True\n",
    "    else:\n",
    "        return False"
   ]
  },
  {
   "cell_type": "markdown",
   "metadata": {},
   "source": [
    "These are supplemental functions provided to me in Assignment 3\n",
    "- they help with processing the \"People\" inputs"
   ]
  },
  {
   "cell_type": "code",
   "execution_count": 8,
   "metadata": {},
   "outputs": [],
   "source": [
    "#Supplpemental functions from Assignment 3\n",
    "def is_in_list(list_one, list_two):    \n",
    "    for element in list_one:\n",
    "        if element in list_two:\n",
    "            return True\n",
    "    return False\n",
    "\n",
    "def find_in_list(list_one, list_two):\n",
    "    for element in list_one:\n",
    "        if element in list_two:\n",
    "            return element\n",
    "    return None\n",
    "\n",
    "\n",
    "import string\n",
    "import random"
   ]
  },
  {
   "cell_type": "markdown",
   "metadata": {},
   "source": [
    "# List of Potential Inputs to Chatbot"
   ]
  },
  {
   "cell_type": "code",
   "execution_count": 9,
   "metadata": {},
   "outputs": [],
   "source": [
    "GREETINGS_IN = ['hello', 'hi', 'hey', 'hola', 'welcome', 'bonjour', 'greetings']\n",
    "GREETINGS_OUT = [\"Hello, it's nice to talk to you!\", 'Nice to meet you!',  \"Hey - Let's chat!\"]\n",
    "\n",
    "LARVAL_IN = ['larval', 'stage', 'stages','larva','larvae' ]\n",
    "LARVAL_OUT = [\"Free swimming, feeding larvae are called planktotrophic larvae! \", \\\n",
    "            \"Pelagic non-feeding larvae are called lecithotrophic larvae!\", \\\n",
    "            \"The term TELEPLANIC is used to describe long-lived planktotrophic larvae that have the ability to cross entire oceans and potentially colonise isolated islands!\"\n",
    "             ]\n",
    "FUNFACT_IN=['anything','random','fun', 'fact']\n",
    "FUNFACT_OUT=['Sea otters are considered a keystone species because they eat sea urchins, and sea urchins eat kelp. So thanks to sea otters, we have magnificent kelp forests!','The first multicellular marine organism to ever evolve was a sea sponge. Basically a rock that is alive!','The most abundant organisms on Earth are microscopic and live in the oean. They are called phytoplankton called Pelagibacter.']\n",
    "\n",
    "\n",
    "FISHPIC_IN = ['see', 'look', 'looks']\n",
    "FISHPIC_OUT = ['\\t  ;,//;,    ,;/'+'\\n\\t\\t o:::::::;;///'+'\\n\\t\\t>::::::::;;\\\\\\ '+'\\n\\t\\t  ''\\\\\\\\\\'\" \\';\\]']\n",
    "\n",
    "OYSTER_IN = ['oyster','oysters']\n",
    "OYSTER_OUT = ['The American Oyster varies genetically depending on where it is found! American Oysters from the Gulf are the same species, but genetically differentiated than those found in the Atlantic.','Oysters are considered bivalves because they have two shells. Organisms with one shell, such as a snail, are called gastropods.'] \n",
    "\n",
    "PEOPLE_IN = ['ride', 'earle', 'cousteau']\n",
    "PEOPLE_OUT = ['greatly contributed to the exploration of the oceans.', 'promoted the importance of saving the oceans.', 'inspired many generations of scientists to care about treating the oceans with kindness,awe,and respect.']\n",
    "PEOPLE_NAMES = {'ride': 'Sally', 'earle': 'Sylvia', 'cousteau': 'Jacques'}\n",
    "\n",
    "SUNFISH_IN = ['sunfish']\n",
    "SUNFISH_OUT = ['The scientific name for a sunfish is Mola mola!','Sunfish are one of the largest bony fish in the ocean, however they cannot swim against the ocean current!','Sunfish eat jellyfish.','Sunfish often float near the surface and let seagulls sit on them and pick parasites off their skin!']\n",
    "\n",
    "UNKNOWN = ['Ask for a fun fact!', 'Okay', 'Yeah!', 'Thanks!']\n",
    "\n",
    "COOL_IN= ['cool','wow','awesome']\n",
    "COOL_OUT=['I know!','Amazing right?','Yeah!']\n",
    "\n",
    "QUESTION = \"I'm too shy to answer questions. What do you want to talk about?\""
   ]
  },
  {
   "cell_type": "markdown",
   "metadata": {},
   "source": [
    "# The Chatbot!"
   ]
  },
  {
   "cell_type": "code",
   "execution_count": 10,
   "metadata": {},
   "outputs": [],
   "source": [
    "def chat_about_fish():\n",
    "\n",
    "    chat = True\n",
    "    while chat:\n",
    "\n",
    "        msg = input('INPUT :\\t')\n",
    "        out_msg = None\n",
    "\n",
    "        question = is_question(msg)\n",
    "\n",
    "        msg = prepare_text(msg)\n",
    " \n",
    "        if end_chat(msg):\n",
    "            out_msg = 'Bye!'\n",
    "            chat = False\n",
    "\n",
    "        if not out_msg:\n",
    "            \n",
    "            outs = []\n",
    "\n",
    "            outs.append(selector(msg, GREETINGS_IN, GREETINGS_OUT))\n",
    "\n",
    "            outs.append(selector(msg, LARVAL_IN, LARVAL_OUT))\n",
    "\n",
    "            if is_in_list(msg, PEOPLE_IN):\n",
    "                name = find_in_list(msg, PEOPLE_IN)\n",
    "                outs.append(list_to_string([PEOPLE_NAMES[name], name.capitalize(),\n",
    "                                            selector(msg, PEOPLE_IN, PEOPLE_OUT)], ' '))\n",
    "\n",
    "            outs.append(selector(msg, FISHPIC_IN, FISHPIC_OUT))\n",
    "            outs.append(selector(msg,FUNFACT_IN, FUNFACT_OUT))\n",
    "            outs.append(selector(msg, OYSTER_IN, OYSTER_OUT))\n",
    "            outs.append(selector(msg, SUNFISH_IN, SUNFISH_OUT))\n",
    "            outs.append(selector(msg, COOL_IN, COOL_OUT))\n",
    "            \n",
    "            options = list(filter(None, outs))\n",
    "            if options:\n",
    "                out_msg = random.choice(options)\n",
    "        \n",
    "        if not out_msg and question:\n",
    "            out_msg = QUESTION\n",
    "\n",
    "        if not out_msg:\n",
    "            out_msg = random.choice(UNKNOWN)\n",
    "\n",
    "        print('OUTPUT:', out_msg)"
   ]
  },
  {
   "cell_type": "code",
   "execution_count": null,
   "metadata": {},
   "outputs": [],
   "source": [
    "#Uncomment to run chat\n",
    "#chat_about_fish()"
   ]
  },
  {
   "cell_type": "code",
   "execution_count": null,
   "metadata": {},
   "outputs": [],
   "source": []
  }
 ],
 "metadata": {
  "kernelspec": {
   "display_name": "Python 3",
   "language": "python",
   "name": "python3"
  },
  "language_info": {
   "codemirror_mode": {
    "name": "ipython",
    "version": 3
   },
   "file_extension": ".py",
   "mimetype": "text/x-python",
   "name": "python",
   "nbconvert_exporter": "python",
   "pygments_lexer": "ipython3",
   "version": "3.6.7"
  }
 },
 "nbformat": 4,
 "nbformat_minor": 2
}
